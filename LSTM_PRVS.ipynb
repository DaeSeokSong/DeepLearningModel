{
  "nbformat": 4,
  "nbformat_minor": 0,
  "metadata": {
    "colab": {
      "name": "LSTM-PRVS.ipynb",
      "provenance": [],
      "collapsed_sections": [],
      "authorship_tag": "ABX9TyPSg2rjsWM+MhP51aCknxZW",
      "include_colab_link": true
    },
    "kernelspec": {
      "name": "python3",
      "display_name": "Python 3"
    },
    "language_info": {
      "name": "python"
    }
  },
  "cells": [
    {
      "cell_type": "markdown",
      "metadata": {
        "id": "view-in-github",
        "colab_type": "text"
      },
      "source": [
        "<a href=\"https://colab.research.google.com/github/DaeSeokSong/MachineLearningModels/blob/main/LSTM_PRVS.ipynb\" target=\"_parent\"><img src=\"https://colab.research.google.com/assets/colab-badge.svg\" alt=\"Open In Colab\"/></a>"
      ]
    },
    {
      "cell_type": "markdown",
      "source": [
        "# Price Rationality Verification System\n",
        "\n",
        "* 가격 합리성 검증 시스템"
      ],
      "metadata": {
        "id": "wFcJ3wtguwdD"
      }
    },
    {
      "cell_type": "markdown",
      "source": [
        "### Google Drive Mount"
      ],
      "metadata": {
        "id": "OVDyjnyPuHPR"
      }
    },
    {
      "cell_type": "code",
      "execution_count": 1,
      "metadata": {
        "id": "Wm_DSi1nti5l",
        "colab": {
          "base_uri": "https://localhost:8080/"
        },
        "outputId": "317f00fc-6ee9-40b6-dca1-7a75ba6263d7"
      },
      "outputs": [
        {
          "output_type": "stream",
          "name": "stdout",
          "text": [
            "Mounted at /content/gdrive\n",
            "/content/gdrive/MyDrive/DeepLearning/Project/PRVS\n",
            "total 75\n",
            "drwx------ 2 root root  4096 Jan 23 02:35 Dataset\n",
            "-rw------- 1 root root 72488 Feb  5 15:14 LSTM-PRVS.ipynb\n"
          ]
        }
      ],
      "source": [
        "from google.colab import drive\n",
        "drive.mount('/content/gdrive')\n",
        "\n",
        "%cd /content/gdrive/MyDrive/DeepLearning/Project/PRVS\n",
        "!ls -al"
      ]
    },
    {
      "cell_type": "markdown",
      "source": [
        "### Install"
      ],
      "metadata": {
        "id": "0Ti57fyx6ncA"
      }
    },
    {
      "cell_type": "code",
      "source": [
        "!pip install beautifulsoup4"
      ],
      "metadata": {
        "colab": {
          "base_uri": "https://localhost:8080/"
        },
        "id": "uuabupUP6nim",
        "outputId": "069d2b37-d453-4b59-955c-0f5046c3355b"
      },
      "execution_count": 2,
      "outputs": [
        {
          "output_type": "stream",
          "name": "stdout",
          "text": [
            "Requirement already satisfied: beautifulsoup4 in /usr/local/lib/python3.7/dist-packages (4.6.3)\n"
          ]
        }
      ]
    },
    {
      "cell_type": "markdown",
      "source": [
        "### Import"
      ],
      "metadata": {
        "id": "ybO0C-8LunNe"
      }
    },
    {
      "cell_type": "code",
      "source": [
        "# Crawling\n",
        "import requests\n",
        "from bs4 import BeautifulSoup\n",
        "\n",
        "# Modeling\n",
        "import numpy as np\n",
        "import pandas as pd\n",
        "import matplotlib.pyplot as plt\n",
        "from tensorflow.keras import metrics, losses\n",
        "from tensorflow.keras.optimizers import Adam\n",
        "from keras.models import Sequential, load_model\n",
        "from keras.layers import LSTM, Dropout, Dense\n",
        "from sklearn.model_selection import train_test_split\n",
        "\n",
        "# ETC\n",
        "from collections import Counter"
      ],
      "metadata": {
        "id": "var9DMDfunVb"
      },
      "execution_count": 3,
      "outputs": []
    },
    {
      "cell_type": "markdown",
      "source": [
        "### Global Variable"
      ],
      "metadata": {
        "id": "IaH8hh51vOrb"
      }
    },
    {
      "cell_type": "code",
      "source": [
        "# LED가로등기구, 39111603\n",
        "CLASSIFI_NUM = 39111603\n",
        "IDENTITY_NUM = 23435411"
      ],
      "metadata": {
        "id": "N5-s7nAUvOwN"
      },
      "execution_count": 33,
      "outputs": []
    },
    {
      "cell_type": "markdown",
      "source": [
        "### Main"
      ],
      "metadata": {
        "id": "WxQBygT2vXmL"
      }
    },
    {
      "cell_type": "code",
      "source": [
        "# 나라장터 가격 크롤링 불가, 배추김치(포기김치, 송이식품) 1kg 가격\n",
        "price_go = 365000\n",
        "\n",
        "# 네이버 가격 크롤링\n",
        "url_naver = 'https://search.shopping.naver.com/search/all?query=LED%EA%B0%80%EB%A1%9C%EB%93%B1%EA%B8%B0%EA%B5%AC&cat_id=&frm=NVSHATC'\n",
        "response = requests.get(url_naver)\n",
        "\n",
        "if response.status_code == 200:\n",
        "    soup = BeautifulSoup(response.text, 'html.parser')\n",
        "    ul = soup.select_one('#__next > div > div.style_container__1YjHN > div')\n",
        "\n",
        "    prices = ul.select('div > div > ul > div > div > li > div > div > div > strong > span > span')\n",
        "    for idx, price in enumerate(prices) : \n",
        "        prices[idx] = int(price.get_text().split(',')[0] + price.get_text().split(',')[1][:-1])\n",
        "\n",
        "    prices = np.array(prices)\n",
        "    print(prices)\n",
        "    mean = np.mean(prices)\n",
        "    std = np.std(prices)\n",
        "    cov = std / mean * 100\n",
        "    print('평균 = ', mean)\n",
        "    print('표준편차 = ', std)\n",
        "    print('변동 계수 = ', cov)\n",
        "\n",
        "    print('\\n########## 최대값 제거 ##########')\n",
        "    prices = np.delete(prices, np.where(prices == max(prices)))\n",
        "    print(prices)\n",
        "    mean = np.mean(prices)\n",
        "    std = np.std(prices)\n",
        "    cov = std / mean * 100\n",
        "    print('평균 = ', mean)\n",
        "    print('표준편차 = ', std)\n",
        "    print('변동 계수 = ', cov)\n",
        "\n",
        "    \"\"\"\n",
        "    print('\\n########## 최소값 제거 ##########')\n",
        "    prices = np.delete(prices, np.where(prices == min(prices)))\n",
        "    print(prices)\n",
        "    mean = np.mean(prices)\n",
        "    std = np.std(prices)\n",
        "    cov = std / mean * 100\n",
        "    print('평균 = ', mean)\n",
        "    print('표준편차 = ', std)\n",
        "    print('변동 계수 = ', cov)\n",
        "    \"\"\"\n",
        "\n",
        "    print('\\n########## 결과값 ##########')\n",
        "    mean = int(round(np.mean(prices), -1))\n",
        "    print('나라장터 가격 = ', price_go)\n",
        "    print('네이버쇼핑 평균가 = ', mean)\n",
        "    print('가격 차이 = ', abs(price_go - mean))\n",
        "else : \n",
        "    print(response.status_code)"
      ],
      "metadata": {
        "id": "3e_LFnc3vXsi",
        "colab": {
          "base_uri": "https://localhost:8080/"
        },
        "outputId": "beaa2118-acb2-418c-cd0f-5a25f775cb99"
      },
      "execution_count": 40,
      "outputs": [
        {
          "output_type": "stream",
          "name": "stdout",
          "text": [
            "[336000 226000 188000 156000 156000]\n",
            "평균 =  212400.0\n",
            "표준편차 =  66961.48146509305\n",
            "변동 계수 =  31.526121217087123\n",
            "\n",
            "########## 최대값 제거 ##########\n",
            "[226000 188000 156000 156000]\n",
            "평균 =  181500.0\n",
            "표준편차 =  28822.734082664676\n",
            "변동 계수 =  15.88029426042131\n",
            "\n",
            "########## 결과값 ##########\n",
            "나라장터 가격 =  365000\n",
            "네이버쇼핑 평균가 =  181500\n",
            "가격 차이 =  183500\n"
          ]
        }
      ]
    },
    {
      "cell_type": "code",
      "source": [
        "df = pd.read_csv('./Dataset/item_registration_history_202201.csv')\n",
        "\n",
        "itmClsNmb = df['물품분류번호']\n",
        "itmIdx1 = np.where(itmClsNmb == CLASSIFI_NUM)[0]\n",
        "itmIdnNmb = df['물품식별번호']\n",
        "itmIdx2 = np.where(itmIdnNmb == IDENTITY_NUM)[0]\n",
        "itmIdx = [idx for idx in itmIdx1 if idx in itmIdx2]\n",
        "\n",
        "untPrc = [int(uprc) for uprc in df['단가'][itmIdx]]\n",
        "\n",
        "print(untPrc)\n",
        "print(len(untPrc))"
      ],
      "metadata": {
        "colab": {
          "base_uri": "https://localhost:8080/"
        },
        "id": "srGfrI6GozLA",
        "outputId": "f3ee31df-d463-4487-e13e-ab01c26ebfcc"
      },
      "execution_count": 34,
      "outputs": [
        {
          "output_type": "stream",
          "name": "stdout",
          "text": [
            "[365000]\n",
            "1\n"
          ]
        },
        {
          "output_type": "stream",
          "name": "stderr",
          "text": [
            "/usr/local/lib/python3.7/dist-packages/IPython/core/interactiveshell.py:2882: DtypeWarning: Columns (1) have mixed types.Specify dtype option on import or set low_memory=False.\n",
            "  exec(code_obj, self.user_global_ns, self.user_ns)\n"
          ]
        }
      ]
    },
    {
      "cell_type": "code",
      "source": [
        "df = pd.read_csv('./Dataset/details_of_delivery_request_202201.csv', encoding='cp949')\n",
        "\n",
        "itmClsNmb = df['물품분류번호']\n",
        "itmIdx1 = np.where(itmClsNmb == CLASSIFI_NUM)[0]\n",
        "itmIdnNmb = df['물품식별번호']\n",
        "itmIdx2 = np.where(itmIdnNmb == IDENTITY_NUM)[0]\n",
        "itmIdx = [idx for idx in itmIdx1 if idx in itmIdx2]\n",
        "\n",
        "untPrc = [int(id) for idx, id in enumerate(df['단가']) if idx in itmIdx]\n",
        "\n",
        "incDcr = [int(id) for idx, id in enumerate(df['증감수량']) if idx in itmIdx]\n",
        "incDcrAmn = [int(ida) for idx, ida in enumerate(df['증감금액']) if idx in itmIdx]\n",
        "incDcrDlvRqrQnt = [int(iddrq) for idx, iddrq in enumerate(df['증감납품요구수량']) if idx in itmIdx]\n",
        "incDcrDlvRqsAmn = [int(iddra) for idx, iddra in enumerate(df['증감납품요구금액']) if idx in itmIdx]\n",
        "\n",
        "excPrd = [ep for idx, ep in enumerate(df['우수제품여부']) if idx in itmIdx]\n",
        "for idx, ny in enumerate(excPrd) :\n",
        "    if ny == 'N' : excPrd[idx] = 0\n",
        "    else : excPrd[idx] = 1\n",
        "cmpAmnSms = [cas for idx, cas in enumerate(df['중소기업자간경쟁제품여부']) if idx in itmIdx]\n",
        "for idx, ny in enumerate(cmpAmnSms) :\n",
        "    if ny == 'N' : cmpAmnSms[idx] = 0\n",
        "    else : cmpAmnSms[idx] = 1\n",
        "drcPrc = [dp for idx, dp in enumerate(df['공사용자재직접구매대상여부']) if idx in itmIdx]\n",
        "for idx, ny in enumerate(drcPrc) :\n",
        "    if ny == 'N' : drcPrc[idx] = 0\n",
        "    else : drcPrc[idx] = 1\n",
        "mltSplCnt = [msc for idx, msc in enumerate(df['다수공급자계약여부']) if idx in itmIdx]\n",
        "for idx, ny in enumerate(mltSplCnt) :\n",
        "    if ny == 'N' : mltSplCnt[idx] = 0\n",
        "    else : mltSplCnt[idx] = 1\n",
        "\n",
        "print(untPrc)\n",
        "print(len(untPrc))\n",
        "print(\"\\n\")\n",
        "print(incDcr)\n",
        "print(len(incDcr))\n",
        "print(incDcrAmn)\n",
        "print(len(incDcrAmn))\n",
        "print(incDcrDlvRqrQnt)\n",
        "print(len(incDcrDlvRqrQnt))\n",
        "print(incDcrDlvRqsAmn)\n",
        "print(len(incDcrDlvRqsAmn))\n",
        "print(\"\\n\")\n",
        "print(excPrd)\n",
        "print(len(excPrd))\n",
        "print(cmpAmnSms)\n",
        "print(len(cmpAmnSms))\n",
        "print(drcPrc)\n",
        "print(len(drcPrc))\n",
        "print(mltSplCnt)\n",
        "print(len(mltSplCnt))"
      ],
      "metadata": {
        "colab": {
          "base_uri": "https://localhost:8080/"
        },
        "id": "-AxrpXhK0ing",
        "outputId": "7284f9c5-4e08-4f36-e0e2-237eb72a1cfc"
      },
      "execution_count": 35,
      "outputs": [
        {
          "output_type": "stream",
          "name": "stderr",
          "text": [
            "/usr/local/lib/python3.7/dist-packages/IPython/core/interactiveshell.py:2882: DtypeWarning: Columns (19) have mixed types.Specify dtype option on import or set low_memory=False.\n",
            "  exec(code_obj, self.user_global_ns, self.user_ns)\n"
          ]
        },
        {
          "output_type": "stream",
          "name": "stdout",
          "text": [
            "[365000, 365000, 365000, 365000]\n",
            "4\n",
            "\n",
            "\n",
            "[1, 56, 35, 6]\n",
            "4\n",
            "[365000, 20440000, 12775000, 2190000]\n",
            "4\n",
            "[1, 56, 98, 6]\n",
            "4\n",
            "[365000, 20440000, 39345000, 2190000]\n",
            "4\n",
            "\n",
            "\n",
            "[1, 1, 1, 1]\n",
            "4\n",
            "[1, 1, 1, 1]\n",
            "4\n",
            "[1, 1, 1, 1]\n",
            "4\n",
            "[0, 0, 0, 0]\n",
            "4\n"
          ]
        }
      ]
    },
    {
      "cell_type": "code",
      "source": [
        "df = pd.read_csv('./Dataset/detailed_tally_of_delivery_requests_by_product_specification_202201.csv')\n",
        "\n",
        "itmClsNmb = df['물품분류번호']\n",
        "itmIdx1 = np.where(itmClsNmb == CLASSIFI_NUM)[0]\n",
        "itmIdnNmb = df['물품식별번호']\n",
        "itmIdx2 = np.where(itmIdnNmb == IDENTITY_NUM)[0]\n",
        "itmIdx = [idx for idx in itmIdx1 if idx in itmIdx2]\n",
        "\n",
        "ttlQnt = [int(tq) for idx, tq in enumerate(df['수량합계']) if idx in itmIdx]\n",
        "ttlAmn = [int(ta) for idx, ta in enumerate(df['금액합계']) if idx in itmIdx if not ta == 0]\n",
        "avrUntPrc = [int(aup) for idx, aup in enumerate(df['평균단가']) if idx in itmIdx if not pd.isna(aup)]\n",
        "\n",
        "print(untPrc)\n",
        "print(len(untPrc))\n",
        "print(ttlAmn)\n",
        "print(len(ttlAmn))\n",
        "print(avrUntPrc)\n",
        "print(len(avrUntPrc))"
      ],
      "metadata": {
        "id": "0fHzlr5xuUsw",
        "colab": {
          "base_uri": "https://localhost:8080/"
        },
        "outputId": "15b00571-281d-4724-8d3c-24b0fff49905"
      },
      "execution_count": 36,
      "outputs": [
        {
          "output_type": "stream",
          "name": "stdout",
          "text": [
            "[365000, 365000, 365000, 365000]\n",
            "4\n",
            "[35770000]\n",
            "1\n",
            "[365000]\n",
            "1\n"
          ]
        }
      ]
    },
    {
      "cell_type": "code",
      "source": [
        ""
      ],
      "metadata": {
        "id": "fGoJxoRSHDzg"
      },
      "execution_count": null,
      "outputs": []
    }
  ]
}