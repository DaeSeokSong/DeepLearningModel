{
  "nbformat": 4,
  "nbformat_minor": 0,
  "metadata": {
    "colab": {
      "name": "LSTM-PRVS.ipynb",
      "provenance": [],
      "collapsed_sections": [],
      "authorship_tag": "ABX9TyOGVOzyui05wy/4DcGDw5WG",
      "include_colab_link": true
    },
    "kernelspec": {
      "name": "python3",
      "display_name": "Python 3"
    },
    "language_info": {
      "name": "python"
    }
  },
  "cells": [
    {
      "cell_type": "markdown",
      "metadata": {
        "id": "view-in-github",
        "colab_type": "text"
      },
      "source": [
        "<a href=\"https://colab.research.google.com/github/DaeSeokSong/MachineLearningModels/blob/main/LSTM_PRVS.ipynb\" target=\"_parent\"><img src=\"https://colab.research.google.com/assets/colab-badge.svg\" alt=\"Open In Colab\"/></a>"
      ]
    },
    {
      "cell_type": "markdown",
      "source": [
        "# Price Rationality Verification System\n",
        "\n",
        "* 가격 합리성 검증 시스템"
      ],
      "metadata": {
        "id": "wFcJ3wtguwdD"
      }
    },
    {
      "cell_type": "markdown",
      "source": [
        "### Google Drive Mount"
      ],
      "metadata": {
        "id": "OVDyjnyPuHPR"
      }
    },
    {
      "cell_type": "code",
      "execution_count": 1,
      "metadata": {
        "id": "Wm_DSi1nti5l",
        "colab": {
          "base_uri": "https://localhost:8080/"
        },
        "outputId": "92d2b6fb-e9de-4626-bfe1-8c3909a448b8"
      },
      "outputs": [
        {
          "output_type": "stream",
          "name": "stdout",
          "text": [
            "Mounted at /content/gdrive\n",
            "/content/gdrive/MyDrive/DeepLearning/Project/PRVS\n",
            "total 14\n",
            "drwx------ 2 root root  4096 Jan 23 02:35 Dataset\n",
            "-rw------- 1 root root 10180 Feb  7 11:24 LSTM-PRVS.ipynb\n"
          ]
        }
      ],
      "source": [
        "from google.colab import drive\n",
        "drive.mount('/content/gdrive')\n",
        "\n",
        "%cd /content/gdrive/MyDrive/DeepLearning/Project/PRVS\n",
        "!ls -al"
      ]
    },
    {
      "cell_type": "markdown",
      "source": [
        "### Install"
      ],
      "metadata": {
        "id": "0Ti57fyx6ncA"
      }
    },
    {
      "cell_type": "code",
      "source": [
        "!pip install beautifulsoup4"
      ],
      "metadata": {
        "colab": {
          "base_uri": "https://localhost:8080/"
        },
        "id": "uuabupUP6nim",
        "outputId": "44c3cf78-fd70-401d-f0b9-b00cf9f3e5b6"
      },
      "execution_count": 2,
      "outputs": [
        {
          "output_type": "stream",
          "name": "stdout",
          "text": [
            "Requirement already satisfied: beautifulsoup4 in /usr/local/lib/python3.7/dist-packages (4.6.3)\n"
          ]
        }
      ]
    },
    {
      "cell_type": "markdown",
      "source": [
        "### Import"
      ],
      "metadata": {
        "id": "ybO0C-8LunNe"
      }
    },
    {
      "cell_type": "code",
      "source": [
        "# Crawling\n",
        "import requests\n",
        "from bs4 import BeautifulSoup\n",
        "\n",
        "# Modeling\n",
        "import numpy as np\n",
        "import pandas as pd\n",
        "import matplotlib.pyplot as plt\n",
        "from tensorflow.keras import metrics, losses\n",
        "from tensorflow.keras.optimizers import Adam\n",
        "from keras.models import Sequential, load_model\n",
        "from keras.layers import LSTM, Dropout, Dense\n",
        "from sklearn.model_selection import train_test_split\n",
        "\n",
        "# ETC\n",
        "from collections import Counter"
      ],
      "metadata": {
        "id": "var9DMDfunVb"
      },
      "execution_count": 3,
      "outputs": []
    },
    {
      "cell_type": "markdown",
      "source": [
        "### Global Variable"
      ],
      "metadata": {
        "id": "IaH8hh51vOrb"
      }
    },
    {
      "cell_type": "code",
      "source": [
        "# LED가로등기구, 39111603\n",
        "CLASSIFI_NUM = 39111603\n",
        "IDENTITY_NUM = 23435411"
      ],
      "metadata": {
        "id": "N5-s7nAUvOwN"
      },
      "execution_count": 4,
      "outputs": []
    },
    {
      "cell_type": "markdown",
      "source": [
        "### Main"
      ],
      "metadata": {
        "id": "WxQBygT2vXmL"
      }
    },
    {
      "cell_type": "code",
      "source": [
        "# 나라장터 가격 크롤링 불가, 배추김치(포기김치, 송이식품) 1kg 가격\n",
        "price_go = 365000\n",
        "\n",
        "# 네이버 가격 크롤링\n",
        "url_naver = 'https://search.shopping.naver.com/search/all?query=LED%EA%B0%80%EB%A1%9C%EB%93%B1%EA%B8%B0%EA%B5%AC&cat_id=&frm=NVSHATC'\n",
        "response = requests.get(url_naver)\n",
        "\n",
        "if response.status_code == 200:\n",
        "    soup = BeautifulSoup(response.text, 'html.parser')\n",
        "    ul = soup.select_one('#__next > div > div.style_container__1YjHN > div')\n",
        "\n",
        "    prices = ul.select('div > div > ul > div > div > li > div > div > div > strong > span > span')\n",
        "    for idx, price in enumerate(prices) : \n",
        "        prices[idx] = int(price.get_text().split(',')[0] + price.get_text().split(',')[1][:-1])\n",
        "\n",
        "    prices = np.array(prices)\n",
        "    print(prices)\n",
        "    mean = np.mean(prices)\n",
        "    std = np.std(prices)\n",
        "    cov = std / mean * 100\n",
        "    print('평균 = ', mean)\n",
        "    print('표준편차 = ', std)\n",
        "    print('변동 계수 = ', cov)\n",
        "\n",
        "    print('\\n########## 최대값 제거 ##########')\n",
        "    prices = np.delete(prices, np.where(prices == max(prices)))\n",
        "    print(prices)\n",
        "    mean = np.mean(prices)\n",
        "    std = np.std(prices)\n",
        "    cov = std / mean * 100\n",
        "    print('평균 = ', mean)\n",
        "    print('표준편차 = ', std)\n",
        "    print('변동 계수 = ', cov)\n",
        "\n",
        "    \"\"\"\n",
        "    print('\\n########## 최소값 제거 ##########')\n",
        "    prices = np.delete(prices, np.where(prices == min(prices)))\n",
        "    print(prices)\n",
        "    mean = np.mean(prices)\n",
        "    std = np.std(prices)\n",
        "    cov = std / mean * 100\n",
        "    print('평균 = ', mean)\n",
        "    print('표준편차 = ', std)\n",
        "    print('변동 계수 = ', cov)\n",
        "    \"\"\"\n",
        "\n",
        "    print('\\n########## 결과값 ##########')\n",
        "    mean = int(round(np.mean(prices), -1))\n",
        "    print('나라장터 가격 = ', price_go)\n",
        "    print('네이버쇼핑 평균가 = ', mean)\n",
        "    print('가격 차이 = ', abs(price_go - mean))\n",
        "else : \n",
        "    print(response.status_code)"
      ],
      "metadata": {
        "id": "3e_LFnc3vXsi",
        "colab": {
          "base_uri": "https://localhost:8080/"
        },
        "outputId": "2be3df14-89f4-44af-db39-ae6cb1ae05d8"
      },
      "execution_count": 5,
      "outputs": [
        {
          "output_type": "stream",
          "name": "stdout",
          "text": [
            "[226000 336000 188000 460000 156000]\n",
            "평균 =  273200.0\n",
            "표준편차 =  111409.87388916657\n",
            "변동 계수 =  40.77960244845043\n",
            "\n",
            "########## 최대값 제거 ##########\n",
            "[226000 336000 188000 156000]\n",
            "평균 =  226500.0\n",
            "표준편차 =  67902.5036357276\n",
            "변동 계수 =  29.979030302749493\n",
            "\n",
            "########## 결과값 ##########\n",
            "나라장터 가격 =  365000\n",
            "네이버쇼핑 평균가 =  226500\n",
            "가격 차이 =  138500\n"
          ]
        }
      ]
    },
    {
      "cell_type": "code",
      "source": [
        "df = pd.read_csv('./Dataset/LED_streetlight_23435411_202201.csv')\n",
        "\n",
        "itmClsNmb = df['물품분류번호']\n",
        "itmIdnNmb = df['물품식별번호']\n",
        "untPrc = df['단가']\n",
        "print(itmClsNmb)\n",
        "print(itmIdnNmb)\n",
        "print(untPrc)\n",
        "\n",
        "incDcr = df['증감수량']\n",
        "incDcrAmn = df['증감금액']\n",
        "incDcrDlvRqrQnt = df['증감납품요구수량']\n",
        "incDcrDlvRqsAmn = df['증감납품요구금액']\n",
        "print(incDcr)\n",
        "print(incDcrAmn)\n",
        "print(incDcrDlvRqrQnt)\n",
        "print(incDcrDlvRqsAmn)\n",
        "\n",
        "excPrd = df['우수제품여부']\n",
        "cmpAmnSms = df['중소기업자간경쟁제품여부']\n",
        "drcPrc = df['공사용자재직접구매대상여부']\n",
        "mltSplCnt = df['다수공급자계약여부']\n",
        "print(excPrd)\n",
        "print(cmpAmnSms)\n",
        "print(drcPrc)\n",
        "print(mltSplCnt)\n",
        "\n",
        "ttlQnt = df['수량합계']\n",
        "ttlAmn = df['금액합계']\n",
        "avrUntPrc = df['평균단가']\n",
        "print(ttlQnt)\n",
        "print(ttlAmn)\n",
        "print(avrUntPrc)"
      ],
      "metadata": {
        "id": "fGoJxoRSHDzg",
        "colab": {
          "base_uri": "https://localhost:8080/"
        },
        "outputId": "76b9ae15-6877-43d8-ff24-4f32b2ebb5cb"
      },
      "execution_count": 10,
      "outputs": [
        {
          "output_type": "stream",
          "name": "stdout",
          "text": [
            "0    39111603\n",
            "1    39111603\n",
            "2    39111603\n",
            "3    39111603\n",
            "Name: 물품분류번호, dtype: int64\n",
            "0    23435411\n",
            "1    23435411\n",
            "2    23435411\n",
            "3    23435411\n",
            "Name: 물품식별번호, dtype: int64\n",
            "0    365000\n",
            "1    365000\n",
            "2    365000\n",
            "3    365000\n",
            "Name: 단가, dtype: int64\n",
            "0     1\n",
            "1    56\n",
            "2    35\n",
            "3     6\n",
            "Name: 증감수량, dtype: int64\n",
            "0      365000\n",
            "1    20440000\n",
            "2    12775000\n",
            "3     2190000\n",
            "Name: 증감금액, dtype: int64\n",
            "0     1\n",
            "1    56\n",
            "2    98\n",
            "3     6\n",
            "Name: 증감납품요구수량, dtype: int64\n",
            "0      365000\n",
            "1    20440000\n",
            "2    39345000\n",
            "3     2190000\n",
            "Name: 증감납품요구금액, dtype: int64\n",
            "0    Y\n",
            "1    Y\n",
            "2    Y\n",
            "3    Y\n",
            "Name: 우수제품여부, dtype: object\n",
            "0    Y\n",
            "1    Y\n",
            "2    Y\n",
            "3    Y\n",
            "Name: 중소기업자간경쟁제품여부, dtype: object\n",
            "0    Y\n",
            "1    Y\n",
            "2    Y\n",
            "3    Y\n",
            "Name: 공사용자재직접구매대상여부, dtype: object\n",
            "0    N\n",
            "1    N\n",
            "2    N\n",
            "3    N\n",
            "Name: 다수공급자계약여부, dtype: object\n",
            "0    98\n",
            "1    98\n",
            "2    98\n",
            "3    98\n",
            "Name: 수량합계, dtype: int64\n",
            "0    35770000\n",
            "1    35770000\n",
            "2    35770000\n",
            "3    35770000\n",
            "Name: 금액합계, dtype: int64\n",
            "0    365000\n",
            "1    365000\n",
            "2    365000\n",
            "3    365000\n",
            "Name: 평균단가, dtype: int64\n"
          ]
        }
      ]
    }
  ]
}