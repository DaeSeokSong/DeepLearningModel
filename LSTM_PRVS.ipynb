{
  "nbformat": 4,
  "nbformat_minor": 0,
  "metadata": {
    "colab": {
      "name": "LSTM-PRVS.ipynb",
      "provenance": [],
      "collapsed_sections": [],
      "authorship_tag": "ABX9TyN430qOATFu9TaAmk/0ZgWy",
      "include_colab_link": true
    },
    "kernelspec": {
      "name": "python3",
      "display_name": "Python 3"
    },
    "language_info": {
      "name": "python"
    }
  },
  "cells": [
    {
      "cell_type": "markdown",
      "metadata": {
        "id": "view-in-github",
        "colab_type": "text"
      },
      "source": [
        "<a href=\"https://colab.research.google.com/github/DaeSeokSong/MachineLearningModels/blob/main/LSTM_PRVS.ipynb\" target=\"_parent\"><img src=\"https://colab.research.google.com/assets/colab-badge.svg\" alt=\"Open In Colab\"/></a>"
      ]
    },
    {
      "cell_type": "markdown",
      "source": [
        "# Price Rationality Verification System\n",
        "\n",
        "* 가격 합리성 검증 시스템"
      ],
      "metadata": {
        "id": "wFcJ3wtguwdD"
      }
    },
    {
      "cell_type": "markdown",
      "source": [
        "### Google Drive Mount"
      ],
      "metadata": {
        "id": "OVDyjnyPuHPR"
      }
    },
    {
      "cell_type": "code",
      "execution_count": 1,
      "metadata": {
        "id": "Wm_DSi1nti5l",
        "colab": {
          "base_uri": "https://localhost:8080/"
        },
        "outputId": "d3704a5c-1982-4dbc-a3df-148bd5081022"
      },
      "outputs": [
        {
          "output_type": "stream",
          "name": "stdout",
          "text": [
            "Mounted at /content/gdrive\n",
            "/content/gdrive/MyDrive/DeepLearning/Project/PRVS\n",
            "total 426\n",
            "drwx------ 2 root root   4096 Jan 23 02:35 Dataset\n",
            "-rw------- 1 root root 431637 Jan 29 02:02 LSTM-PRVS.ipynb\n"
          ]
        }
      ],
      "source": [
        "from google.colab import drive\n",
        "drive.mount('/content/gdrive')\n",
        "\n",
        "%cd /content/gdrive/MyDrive/DeepLearning/Project/PRVS\n",
        "!ls -al"
      ]
    },
    {
      "cell_type": "markdown",
      "source": [
        "### Install"
      ],
      "metadata": {
        "id": "0Ti57fyx6ncA"
      }
    },
    {
      "cell_type": "code",
      "source": [
        "!pip install beautifulsoup4"
      ],
      "metadata": {
        "colab": {
          "base_uri": "https://localhost:8080/"
        },
        "id": "uuabupUP6nim",
        "outputId": "bd9361e7-1b89-49c5-8b30-448de79295fe"
      },
      "execution_count": 2,
      "outputs": [
        {
          "output_type": "stream",
          "name": "stdout",
          "text": [
            "Requirement already satisfied: beautifulsoup4 in /usr/local/lib/python3.7/dist-packages (4.6.3)\n"
          ]
        }
      ]
    },
    {
      "cell_type": "markdown",
      "source": [
        "### Import"
      ],
      "metadata": {
        "id": "ybO0C-8LunNe"
      }
    },
    {
      "cell_type": "code",
      "source": [
        "# Crawling\n",
        "import requests\n",
        "from bs4 import BeautifulSoup\n",
        "\n",
        "# Modeling\n",
        "import numpy as np\n",
        "import pandas as pd\n",
        "import matplotlib.pyplot as plt\n",
        "from tensorflow.keras import metrics, losses\n",
        "from tensorflow.keras.optimizers import Adam\n",
        "from keras.models import Sequential, load_model\n",
        "from keras.layers import LSTM, Dropout, Dense\n",
        "from sklearn.model_selection import train_test_split"
      ],
      "metadata": {
        "id": "var9DMDfunVb"
      },
      "execution_count": 48,
      "outputs": []
    },
    {
      "cell_type": "markdown",
      "source": [
        "### Global Variable"
      ],
      "metadata": {
        "id": "IaH8hh51vOrb"
      }
    },
    {
      "cell_type": "code",
      "source": [
        ""
      ],
      "metadata": {
        "id": "N5-s7nAUvOwN"
      },
      "execution_count": null,
      "outputs": []
    },
    {
      "cell_type": "markdown",
      "source": [
        "### Main"
      ],
      "metadata": {
        "id": "WxQBygT2vXmL"
      }
    },
    {
      "cell_type": "code",
      "source": [
        "# 나라장터 가격 크롤링 불가, 배추김치(포기김치, 송이식품) 1kg 가격\n",
        "price_go = 3500\n",
        "\n",
        "# 네이버 가격 크롤링\n",
        "url_naver = 'https://search.shopping.naver.com/search/all?where=all&frm=NVSCTAB&query=%EB%B0%B0%EC%B6%94%EA%B9%80%EC%B9%98%2C+%EC%86%A1%EC%9D%B4%EC%8B%9D%ED%92%88%2C+%EB%A7%9B%EA%B9%80%EC%B9%98%2C+1kg'\n",
        "response = requests.get(url_naver)\n",
        "\n",
        "if response.status_code == 200:\n",
        "    soup = BeautifulSoup(response.text, 'html.parser')\n",
        "    ul = soup.select_one('#__next > div > div.style_container__1YjHN > div')\n",
        "\n",
        "    prices = ul.select('div > div > ul > div > div > li > div > div > div > strong > span > span')\n",
        "    for idx, price in enumerate(prices) : \n",
        "        prices[idx] = int(price.get_text().split(',')[0] + price.get_text().split(',')[1][:-1])\n",
        "\n",
        "    prices = np.array(prices)\n",
        "    print(prices)\n",
        "    mean = np.mean(prices)\n",
        "    std = np.std(prices)\n",
        "    cov = std / mean * 100\n",
        "    print('평균 = ', mean)\n",
        "    print('표준편차 = ', std)\n",
        "    print('변동 계수 = ', cov)\n",
        "\n",
        "    print('\\n########## 최대값 제거 ##########')\n",
        "    prices = np.delete(prices, np.where(prices == max(prices)))\n",
        "    print(prices)\n",
        "    mean = np.mean(prices)\n",
        "    std = np.std(prices)\n",
        "    cov = std / mean * 100\n",
        "    print('평균 = ', mean)\n",
        "    print('표준편차 = ', std)\n",
        "    print('변동 계수 = ', cov)\n",
        "\n",
        "    print('\\n########## 최소값 제거 ##########')\n",
        "    prices = np.delete(prices, np.where(prices == min(prices)))\n",
        "    print(prices)\n",
        "    mean = np.mean(prices)\n",
        "    std = np.std(prices)\n",
        "    cov = std / mean * 100\n",
        "    print('평균 = ', mean)\n",
        "    print('표준편차 = ', std)\n",
        "    print('변동 계수 = ', cov)\n",
        "\n",
        "    print('\\n########## 결과값 ##########')\n",
        "    mean = int(round(np.mean(prices), -1))\n",
        "    print('나라장터 가격 = ', price_go)\n",
        "    print('네이버쇼핑 평균가 = ', mean)\n",
        "    print('가격 차이 = ', abs(price_go - mean))\n",
        "else : \n",
        "    print(response.status_code)"
      ],
      "metadata": {
        "id": "3e_LFnc3vXsi",
        "colab": {
          "base_uri": "https://localhost:8080/"
        },
        "outputId": "f185cc85-25be-4e07-b81a-1230d80d004a"
      },
      "execution_count": 53,
      "outputs": [
        {
          "output_type": "stream",
          "name": "stdout",
          "text": [
            "[ 7700  9900 13000 13900 25900]\n",
            "평균 =  14080.0\n",
            "표준편차 =  6310.118857834613\n",
            "변동 계수 =  44.8161850698481\n",
            "\n",
            "########## 최대값 제거 ##########\n",
            "[ 7700  9900 13000 13900]\n",
            "평균 =  11125.0\n",
            "표준편차 =  2472.2206616724166\n",
            "변동 계수 =  22.22220819480824\n",
            "\n",
            "########## 최소값 제거 ##########\n",
            "[ 9900 13000 13900]\n",
            "평균 =  12266.666666666666\n",
            "표준편차 =  1713.3463034528531\n",
            "변동 계수 =  13.967497039017825\n",
            "\n",
            "########## 결과값 ##########\n",
            "나라장터 가격 =  3500\n",
            "네이버쇼핑 평균가 =  12270\n",
            "가격 차이 =  8770\n"
          ]
        }
      ]
    },
    {
      "cell_type": "code",
      "source": [
        "df = pd.read_csv('./Dataset/item_registration_details.csv', index_col=0)\n",
        "df.head()"
      ],
      "metadata": {
        "id": "srGfrI6GozLA"
      },
      "execution_count": null,
      "outputs": []
    }
  ]
}