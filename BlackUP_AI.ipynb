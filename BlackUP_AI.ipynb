{
  "nbformat": 4,
  "nbformat_minor": 0,
  "metadata": {
    "colab": {
      "name": "BlackUP_AI.ipynb",
      "private_outputs": true,
      "provenance": [],
      "collapsed_sections": [],
      "toc_visible": true,
      "authorship_tag": "ABX9TyMrLVN4fvNXaaestlT64YIb",
      "include_colab_link": true
    },
    "kernelspec": {
      "name": "python3",
      "display_name": "Python 3"
    },
    "language_info": {
      "name": "python"
    }
  },
  "cells": [
    {
      "cell_type": "markdown",
      "metadata": {
        "id": "view-in-github",
        "colab_type": "text"
      },
      "source": [
        "<a href=\"https://colab.research.google.com/github/DaeSeokSong/MachineLearningModels/blob/main/BlackUP_AI.ipynb\" target=\"_parent\"><img src=\"https://colab.research.google.com/assets/colab-badge.svg\" alt=\"Open In Colab\"/></a>"
      ]
    },
    {
      "cell_type": "markdown",
      "metadata": {
        "id": "RBPjKd3js-ip"
      },
      "source": [
        "# Google Drive Local Mount"
      ]
    },
    {
      "cell_type": "code",
      "metadata": {
        "id": "7IZYvsANs-qf"
      },
      "source": [
        "from google.colab import drive\n",
        "drive.mount('/content/drive')"
      ],
      "execution_count": null,
      "outputs": []
    },
    {
      "cell_type": "markdown",
      "metadata": {
        "id": "hSjFbXGZs3PI"
      },
      "source": [
        "# Import"
      ]
    },
    {
      "cell_type": "code",
      "metadata": {
        "id": "P-mQvmhKsdQx"
      },
      "source": [
        "import numpy as np\n",
        "import pandas as pd\n",
        "import matplotlib.pyplot as plt"
      ],
      "execution_count": null,
      "outputs": []
    },
    {
      "cell_type": "markdown",
      "metadata": {
        "id": "GXxwTqBgtOUR"
      },
      "source": [
        "# Main Code"
      ]
    },
    {
      "cell_type": "code",
      "metadata": {
        "id": "2qwOtGS6tObs"
      },
      "source": [
        "%cd drive/MyDrive/DeepLearning/BlackUp/Dataset\n",
        "\n",
        "studyData = pd.read_csv(\"KOSPI200_20y_dataset.csv\");\n",
        "testData = pd.read_csv(\"005930_10y_dataset.csv\")\n",
        "\n",
        "closePrice = studyData[\"Close\"].values\n",
        "openPrice = studyData[\"Open\"].values\n",
        "highPrice = studyData[\"High\"].values\n",
        "lowPrice = studyData[\"Low\"].values\n",
        "tradingVolume = studyData[\"Trading\"].values\n",
        "chageRate = studyData[\"ChageRate\"].values\n",
        "\n",
        "# keras.models 중 모델을 순차적으로 정의하는 클래스\n",
        "model = Sequential()\n",
        "\n",
        "model.add(LSTM(\n",
        "    1, # 해당 층의 노드 개수\n",
        "    input_shape=(50,1), # input_shape=입력값 모양\n",
        "    return_sequences=True)) # return_sequences == 각 시퀀스를 출력할지\n",
        "model.add(Dropout(0.2)) # 과적합 방지용 Dropout 20%(==0.2)\n",
        "\n",
        "model.add(LSTM(\n",
        "    100, # 노드 100개\n",
        "    return_sequences=False))\n",
        "model.add(Dropout(0.2))\n",
        "\n",
        "model.add(Dense(1, activation='sigmoid')) # 활성화(Activation)함수 = sigmoid\n",
        "model.compile(loss='mse', optimizer='rmsprop')\n",
        "\n",
        "model.summary()"
      ],
      "execution_count": null,
      "outputs": []
    }
  ]
}