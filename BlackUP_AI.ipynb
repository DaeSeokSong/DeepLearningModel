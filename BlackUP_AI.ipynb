{
  "nbformat": 4,
  "nbformat_minor": 0,
  "metadata": {
    "colab": {
      "name": "BlackUP_AI.ipynb",
      "private_outputs": true,
      "provenance": [],
      "collapsed_sections": [],
      "toc_visible": true,
      "authorship_tag": "ABX9TyP9HYDb2nGW4qISOi1LwKXW",
      "include_colab_link": true
    },
    "kernelspec": {
      "name": "python3",
      "display_name": "Python 3"
    },
    "language_info": {
      "name": "python"
    }
  },
  "cells": [
    {
      "cell_type": "markdown",
      "metadata": {
        "id": "view-in-github",
        "colab_type": "text"
      },
      "source": [
        "<a href=\"https://colab.research.google.com/github/DaeSeokSong/MachineLearningModels/blob/main/BlackUP_AI.ipynb\" target=\"_parent\"><img src=\"https://colab.research.google.com/assets/colab-badge.svg\" alt=\"Open In Colab\"/></a>"
      ]
    },
    {
      "cell_type": "markdown",
      "metadata": {
        "id": "RBPjKd3js-ip"
      },
      "source": [
        "# Google Drive Local Mount"
      ]
    },
    {
      "cell_type": "code",
      "metadata": {
        "id": "7IZYvsANs-qf"
      },
      "source": [
        "from google.colab import drive\n",
        "drive.mount('/content/drive')"
      ],
      "execution_count": null,
      "outputs": []
    },
    {
      "cell_type": "markdown",
      "metadata": {
        "id": "hSjFbXGZs3PI"
      },
      "source": [
        "# Import"
      ]
    },
    {
      "cell_type": "code",
      "metadata": {
        "id": "P-mQvmhKsdQx"
      },
      "source": [
        "import numpy as np\n",
        "import pandas as pd\n",
        "import matplotlib.pyplot as plt"
      ],
      "execution_count": null,
      "outputs": []
    },
    {
      "cell_type": "markdown",
      "metadata": {
        "id": "GXxwTqBgtOUR"
      },
      "source": [
        "# Main Code"
      ]
    },
    {
      "cell_type": "code",
      "metadata": {
        "id": "2qwOtGS6tObs"
      },
      "source": [
        "%cd drive/MyDrive/DeepLearning/BlackUp/Dataset\n",
        "\n",
        "studyData = pd.read_csv(\"KOSPI200_20y_dataset.csv\");\n",
        "testData = pd.read_csv(\"005930_10y_dataset.csv\")\n",
        "\n",
        "closePrice = studyData[\"Close\"].values\n",
        "openPrice = studyData[\"Open\"].values\n",
        "highPrice = studyData[\"High\"].values\n",
        "lowPrice = studyData[\"Low\"].values\n",
        "tradingVolume = studyData[\"Trading\"].values\n",
        "chageRate = studyData[\"ChageRate\"].values"
      ],
      "execution_count": null,
      "outputs": []
    }
  ]
}