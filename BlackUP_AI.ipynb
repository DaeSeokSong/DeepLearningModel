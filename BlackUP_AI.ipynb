{
  "nbformat": 4,
  "nbformat_minor": 0,
  "metadata": {
    "colab": {
      "name": "BlackUP_AI.ipynb",
      "private_outputs": true,
      "provenance": [],
      "collapsed_sections": [],
      "toc_visible": true,
      "authorship_tag": "ABX9TyP3mlRxMGL+EzRq7zVyT34n",
      "include_colab_link": true
    },
    "kernelspec": {
      "name": "python3",
      "display_name": "Python 3"
    },
    "language_info": {
      "name": "python"
    }
  },
  "cells": [
    {
      "cell_type": "markdown",
      "metadata": {
        "id": "view-in-github",
        "colab_type": "text"
      },
      "source": [
        "<a href=\"https://colab.research.google.com/github/DaeSeokSong/MachineLearningModels/blob/main/BlackUP_AI.ipynb\" target=\"_parent\"><img src=\"https://colab.research.google.com/assets/colab-badge.svg\" alt=\"Open In Colab\"/></a>"
      ]
    },
    {
      "cell_type": "markdown",
      "metadata": {
        "id": "RBPjKd3js-ip"
      },
      "source": [
        "# Google Drive Local Mount"
      ]
    },
    {
      "cell_type": "code",
      "metadata": {
        "id": "7IZYvsANs-qf"
      },
      "source": [
        "from google.colab import drive\n",
        "drive.mount('/content/drive')"
      ],
      "execution_count": null,
      "outputs": []
    },
    {
      "cell_type": "markdown",
      "metadata": {
        "id": "hSjFbXGZs3PI"
      },
      "source": [
        "# Import"
      ]
    },
    {
      "cell_type": "code",
      "metadata": {
        "id": "P-mQvmhKsdQx"
      },
      "source": [
        "import numpy as np\n",
        "import pandas as pd\n",
        "import matplotlib.pyplot as plt\n",
        "\n",
        "import tensorflow as tf"
      ],
      "execution_count": null,
      "outputs": []
    },
    {
      "cell_type": "markdown",
      "metadata": {
        "id": "GXxwTqBgtOUR"
      },
      "source": [
        "# Main Code"
      ]
    },
    {
      "cell_type": "code",
      "metadata": {
        "id": "2qwOtGS6tObs"
      },
      "source": [
        "%cd drive/MyDrive/DeepLearning/BlackUp/Dataset\n",
        "\n",
        "studyData = pd.read_csv(\"KOSPI200_20y_dataset.csv\");\n",
        "testData = pd.read_csv(\"005930_10y_dataset.csv\")\n",
        "\n",
        "chageRate = studyData[\"ChageRate\"].values\n",
        "\n",
        "# Window size\n",
        "seq_len = 50\n",
        "total_seq_len = seq_len + 1 # 예측 기반 데이터 (seq_len)개 + 예측할 데이터 1개\n",
        "\n",
        "result = []\n",
        "for idx in range(len(chageRate) - total_seq_len) :\n",
        "    result.append(chageRate[idx: idx + total_seq_len])\n",
        "\n",
        "Normalized_data = []\n",
        "for window in result :\n",
        "    Normalized_window = [(float(p) / float(window[0]) - 1) for p in window]\n",
        "    Normalized_data.append(Normalized_window)\n",
        "\n",
        "result = np.array(Normalized_data)\n",
        "\n",
        "# 정규화를 안 하면 모델에 fit(학습)시에 loss율이 심해진다.\n",
        "# 테스트셋 / 훈련셋 분류\n",
        "row = int(round(result.shape[0] * 0.9))\n",
        "# 훈련셋 분류 및 랜덤 셔플\n",
        "train = result[:row, :]\n",
        "np.random.shuffle(train)\n",
        "\n",
        "x_train = train[:, :-1] # 총 51개의 윈도우 중 50개\n",
        "x_train = np.reshape(x_train, (x_train.shape[0], x_train.shape[1], 1))\n",
        "y_train = train[:, -1] # 총 51개의 윈도우 중 1개\n",
        "\n",
        "\"\"\"\n",
        "테스트 값 구현해야함\n",
        "\"\"\"\n",
        "\n",
        "# keras.models 중 모델을 순차적으로 정의하는 클래스\n",
        "model = Sequential()\n",
        "\n",
        "model.add(LSTM(\n",
        "    1, # 해당 층의 노드 개수\n",
        "    input_shape=(50,1), # input_shape=입력값 모양\n",
        "    return_sequences=True)) # return_sequences == 각 시퀀스를 출력할지\n",
        "model.add(Dropout(0.2)) # 과적합 방지용 Dropout 20%(==0.2)\n",
        "\n",
        "model.add(LSTM(\n",
        "    100, # 노드 100개\n",
        "    return_sequences=False))\n",
        "model.add(Dropout(0.2))\n",
        "\n",
        "model.add(Dense(1, activation='sigmoid')) # 활성화(Activation)함수 = sigmoid\n",
        "model.compile(loss='mse', optimizer='adam') # 최적화함수 = adam\n",
        "\n",
        "model.summary()\n",
        "\n",
        "model.fit(x_train, y_train, # 훈련셋\n",
        "          validation_data=(x_test, y_test), # 테스트셋, validation_data\n",
        "          batch_size=10, # 한 번에 몇 개씩 묶어서 학습시킬지, batch_size\n",
        "          epochs=20) # N번 동안 반복해라, epochs"
      ],
      "execution_count": null,
      "outputs": []
    }
  ]
}