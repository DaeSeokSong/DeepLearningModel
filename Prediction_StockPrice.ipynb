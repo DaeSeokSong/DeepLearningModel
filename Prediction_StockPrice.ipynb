{
  "nbformat": 4,
  "nbformat_minor": 0,
  "metadata": {
    "colab": {
      "name": "Prediction_StockPrice.ipynb",
      "private_outputs": true,
      "provenance": [],
      "authorship_tag": "ABX9TyNWgLyYZ1oA96aj+y9EEeXa",
      "include_colab_link": true
    },
    "kernelspec": {
      "name": "python3",
      "display_name": "Python 3"
    }
  },
  "cells": [
    {
      "cell_type": "markdown",
      "metadata": {
        "id": "view-in-github",
        "colab_type": "text"
      },
      "source": [
        "<a href=\"https://colab.research.google.com/github/DaeSeokSong/MachineLearningModels/blob/main/Prediction_StockPrice.ipynb\" target=\"_parent\"><img src=\"https://colab.research.google.com/assets/colab-badge.svg\" alt=\"Open In Colab\"/></a>"
      ]
    },
    {
      "cell_type": "markdown",
      "metadata": {
        "id": "ILK-46MXD19a"
      },
      "source": [
        "# Google Drive Mount"
      ]
    },
    {
      "cell_type": "code",
      "metadata": {
        "id": "08vimB7eEeTQ"
      },
      "source": [
        "from google.colab import drive\r\n",
        "drive.mount('/content/drive')"
      ],
      "execution_count": null,
      "outputs": []
    },
    {
      "cell_type": "markdown",
      "metadata": {
        "id": "kzCcsgFl5wC-"
      },
      "source": [
        "#Import Pakage"
      ]
    },
    {
      "cell_type": "code",
      "metadata": {
        "id": "-IxNOCwJztCo"
      },
      "source": [
        "# 기타\r\n",
        "import datetime\r\n",
        "\r\n",
        "# AI 학습용\r\n",
        "import numpy as np\r\n",
        "import pandas as pd\r\n",
        "import matplotlib.pyplot as plt\r\n",
        "from keras.models import Sequential\r\n",
        "from keras.layers import LSTM, Dropout, Dense, Activation"
      ],
      "execution_count": null,
      "outputs": []
    },
    {
      "cell_type": "markdown",
      "metadata": {
        "id": "nBLTuKOg_K6C"
      },
      "source": [
        "# Funtion"
      ]
    },
    {
      "cell_type": "code",
      "metadata": {
        "id": "x7La5kPR_LD3"
      },
      "source": [
        "def DeNormalize(data) :\r\n",
        "    returnList = []\r\n",
        "    for window in data :\r\n",
        "        Normalized_window = [((float(p) * float(window[0])) + (int(p) % int(window[0]) + 1)) for p in window]\r\n",
        "        returnList.append(Normalized_window)\r\n",
        "\r\n",
        "    return returnList"
      ],
      "execution_count": null,
      "outputs": []
    },
    {
      "cell_type": "markdown",
      "metadata": {
        "id": "nnp2aJ1V6Htb"
      },
      "source": [
        "# Load Dataset"
      ]
    },
    {
      "cell_type": "code",
      "metadata": {
        "id": "jzA0a_Cg5vMW"
      },
      "source": [
        "filename = '/content/drive/My Drive/DeepLearning/흑우상향/10y_dataset_005930.csv'\r\n",
        "\r\n",
        "data = pd.read_csv(filename)\r\n",
        "data.head()"
      ],
      "execution_count": null,
      "outputs": []
    },
    {
      "cell_type": "markdown",
      "metadata": {
        "id": "J272J8m6LMJa"
      },
      "source": [
        "# Cumpute Average Price"
      ]
    },
    {
      "cell_type": "code",
      "metadata": {
        "id": "nReyvXDwLMUt"
      },
      "source": [
        "High_prices = data['High'].values\r\n",
        "Low_prices = data[\"Low\"].values\r\n",
        "Avg_prices = (High_prices + Low_prices) / 2"
      ],
      "execution_count": null,
      "outputs": []
    },
    {
      "cell_type": "markdown",
      "metadata": {
        "id": "mW8qzqx2LxnS"
      },
      "source": [
        "# Determine Window Size"
      ]
    },
    {
      "cell_type": "code",
      "metadata": {
        "id": "DNZhyGVsLxAo"
      },
      "source": [
        "# Window size\r\n",
        "seq_len = 50\r\n",
        "total_seq_len = seq_len + 1 # 예측 기반 데이터 (seq_len)개 + 예측할 데이터 1개\r\n",
        "\r\n",
        "result = []\r\n",
        "for idx in range(len(Avg_prices) - total_seq_len) :\r\n",
        "    result.append(Avg_prices[idx: idx + total_seq_len])"
      ],
      "execution_count": null,
      "outputs": []
    },
    {
      "cell_type": "markdown",
      "metadata": {
        "id": "kPiRecxoM3Yv"
      },
      "source": [
        "# Normalize"
      ]
    },
    {
      "cell_type": "code",
      "metadata": {
        "id": "mvS1wD8aM3gs"
      },
      "source": [
        "Normalized_data = []\r\n",
        "for window in result :\r\n",
        "    Normalized_window = [((float(p) / float(window[0]) - 1)) for p in window]\r\n",
        "    Normalized_data.append(Normalized_window)\r\n",
        "\r\n",
        "result = np.array(Normalized_data)\r\n",
        "\r\n",
        "# 테스트셋 / 훈련셋 분류\r\n",
        "row = int(round(result.shape[0] * 0.9))\r\n",
        "# 훈련셋 분류 및 랜덤 셔플\r\n",
        "train = result[:row, :]\r\n",
        "np.random.shuffle(train)\r\n",
        "\r\n",
        "x_train = train[:, :-1] # 총 51개의 윈도우 중 50개\r\n",
        "x_train = np.reshape(x_train, (x_train.shape[0], x_train.shape[1], 1))\r\n",
        "y_train = train[:, -1] # 총 51개의 윈도우 중 1개\r\n",
        "\r\n",
        "x_test = result[row:, :-1] # 총 51개의 윈도우 중 50개\r\n",
        "x_test = np.reshape(x_test, (x_test.shape[0], x_test.shape[1], 1))\r\n",
        "y_test = result[row:, -1] # 총 51개의 윈도우 중 1개"
      ],
      "execution_count": null,
      "outputs": []
    },
    {
      "cell_type": "markdown",
      "metadata": {
        "id": "o1mnVPs2OsDc"
      },
      "source": [
        "# Model"
      ]
    },
    {
      "cell_type": "code",
      "metadata": {
        "id": "p6SFuCkGOsJW"
      },
      "source": [
        "# keras.models 중 모델을 순차적으로 정의하는 클래스\r\n",
        "model = Sequential()\r\n",
        "\r\n",
        "# LSTM 모듈 사용, 유닛 50개, 1층\r\n",
        "model.add(LSTM(50, return_sequences=True, input_shape=(50,1)))\r\n",
        "# LSTM 모듈 사용, 유닛 64개, 2층\r\n",
        "model.add(LSTM(64, return_sequences=False))\r\n",
        "# Output, 결과 산출\r\n",
        "model.add(Dense(1, activation='linear'))\r\n",
        "# 손실함수 = mse, Mean Squared Error / Optimizer = rmsprop\r\n",
        "model.compile(loss='mse', optimizer='rmsprop')\r\n",
        "# 개요 출력\r\n",
        "model.summary()"
      ],
      "execution_count": null,
      "outputs": []
    },
    {
      "cell_type": "markdown",
      "metadata": {
        "id": "jg6kQh9kQOk5"
      },
      "source": [
        "# Training"
      ]
    },
    {
      "cell_type": "code",
      "metadata": {
        "id": "8feg5c_KQOud"
      },
      "source": [
        "# trainSet이나 testSet에 null값 섞여있으면 loss(손실률)이 nan으로 나오니 주의\r\n",
        "model.fit(x_train, y_train, # 훈련셋\r\n",
        "          validation_data=(x_test, y_test), # 테스트셋, validation_data\r\n",
        "          batch_size=10, # 한 번에 몇 개씩 묶어서 학습시킬지, batch_size\r\n",
        "          epochs=20) # N번 동안 반복해라, epochs"
      ],
      "execution_count": null,
      "outputs": []
    },
    {
      "cell_type": "markdown",
      "metadata": {
        "id": "fswl36LIRXI0"
      },
      "source": [
        "# Prediction"
      ]
    },
    {
      "cell_type": "code",
      "metadata": {
        "id": "4ZcbXT5lRXUs"
      },
      "source": [
        "# 모델 예측\r\n",
        "pred = model.predict(x_test)\r\n",
        "\r\n",
        "fig = plt.figure(facecolor='white')\r\n",
        "\r\n",
        "ax = fig.add_subplot(111)\r\n",
        "ax.plot(y_test, label='True')\r\n",
        "ax.plot(pred, label='Prediction', linestyle='--')\r\n",
        "ax.legend()\r\n",
        "\r\n",
        "plt.show()"
      ],
      "execution_count": null,
      "outputs": []
    },
    {
      "cell_type": "markdown",
      "metadata": {
        "id": "Rmg5-kQOTCHN"
      },
      "source": [
        "# CopyRight"
      ]
    },
    {
      "cell_type": "code",
      "metadata": {
        "id": "keqi6ydaTCOw"
      },
      "source": [
        "# 참조 사이트: https://www.learnfit.ai/courses/lstm-stock/lessons/%EB%94%A5%EB%9F%AC%EB%8B%9D-lstm-%EC%89%BD%EA%B2%8C-%EC%9D%B4%ED%95%B4%ED%95%98%EA%B8%B0/"
      ],
      "execution_count": null,
      "outputs": []
    }
  ]
}