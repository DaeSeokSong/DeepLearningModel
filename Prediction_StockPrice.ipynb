{
  "nbformat": 4,
  "nbformat_minor": 0,
  "metadata": {
    "colab": {
      "name": "BlackUp.ipynb",
      "private_outputs": true,
      "provenance": [],
      "authorship_tag": "ABX9TyOgkZpABVVHESfiqEUWoSYk",
      "include_colab_link": true
    },
    "kernelspec": {
      "name": "python3",
      "display_name": "Python 3"
    }
  },
  "cells": [
    {
      "cell_type": "markdown",
      "metadata": {
        "id": "view-in-github",
        "colab_type": "text"
      },
      "source": [
        "<a href=\"https://colab.research.google.com/github/DaeSeokSong/MachineLearningModels/blob/main/Prediction_StockPrice.ipynb\" target=\"_parent\"><img src=\"https://colab.research.google.com/assets/colab-badge.svg\" alt=\"Open In Colab\"/></a>"
      ]
    },
    {
      "cell_type": "markdown",
      "metadata": {
        "id": "ILK-46MXD19a"
      },
      "source": [
        "# Google Drive Mount"
      ]
    },
    {
      "cell_type": "code",
      "metadata": {
        "id": "08vimB7eEeTQ"
      },
      "source": [
        "from google.colab import drive\r\n",
        "drive.mount('/content/drive')"
      ],
      "execution_count": null,
      "outputs": []
    },
    {
      "cell_type": "markdown",
      "metadata": {
        "id": "-rZDEmo9EiYl"
      },
      "source": [
        "# Github Clone"
      ]
    },
    {
      "cell_type": "code",
      "metadata": {
        "id": "v6-WMI5NEiSv"
      },
      "source": [
        ""
      ],
      "execution_count": null,
      "outputs": []
    },
    {
      "cell_type": "markdown",
      "metadata": {
        "id": "kzCcsgFl5wC-"
      },
      "source": [
        "#Import Pakage"
      ]
    },
    {
      "cell_type": "code",
      "metadata": {
        "id": "-IxNOCwJztCo"
      },
      "source": [
        "# 기타\r\n",
        "import datetime\r\n",
        "\r\n",
        "# AI 학습용\r\n",
        "import numpy as np\r\n",
        "import pandas as pd\r\n",
        "import mataplotlib.pyplot as plt\r\n",
        "from keras.models import Sequential\r\n",
        "from keras.layers import LSTM, Dropout, Activation"
      ],
      "execution_count": null,
      "outputs": []
    },
    {
      "cell_type": "markdown",
      "metadata": {
        "id": "nnp2aJ1V6Htb"
      },
      "source": [
        "# Load Dataset"
      ]
    },
    {
      "cell_type": "code",
      "metadata": {
        "id": "jzA0a_Cg5vMW"
      },
      "source": [
        "data = pd.read_csv()"
      ],
      "execution_count": null,
      "outputs": []
    }
  ]
}