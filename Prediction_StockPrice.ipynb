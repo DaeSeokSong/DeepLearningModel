{
  "nbformat": 4,
  "nbformat_minor": 0,
  "metadata": {
    "colab": {
      "name": "Prediction_StockPrice.ipynb",
      "private_outputs": true,
      "provenance": [],
      "toc_visible": true,
      "authorship_tag": "ABX9TyM1wmMbSUOaWqg3LwnRECZR",
      "include_colab_link": true
    },
    "kernelspec": {
      "name": "python3",
      "display_name": "Python 3"
    },
    "accelerator": "GPU"
  },
  "cells": [
    {
      "cell_type": "markdown",
      "metadata": {
        "id": "view-in-github",
        "colab_type": "text"
      },
      "source": [
        "<a href=\"https://colab.research.google.com/github/DaeSeokSong/MachineLearningModels/blob/main/Prediction_StockPrice.ipynb\" target=\"_parent\"><img src=\"https://colab.research.google.com/assets/colab-badge.svg\" alt=\"Open In Colab\"/></a>"
      ]
    },
    {
      "cell_type": "markdown",
      "metadata": {
        "id": "ILK-46MXD19a"
      },
      "source": [
        "# Google Drive Mount"
      ]
    },
    {
      "cell_type": "code",
      "metadata": {
        "id": "08vimB7eEeTQ"
      },
      "source": [
        "from google.colab import drive\r\n",
        "drive.mount('/content/drive')"
      ],
      "execution_count": null,
      "outputs": []
    },
    {
      "cell_type": "markdown",
      "metadata": {
        "id": "kzCcsgFl5wC-"
      },
      "source": [
        "#Import Pakage"
      ]
    },
    {
      "cell_type": "code",
      "metadata": {
        "id": "-IxNOCwJztCo"
      },
      "source": [
        "%cd drive/My Drive/DeepLearning/BlackUp/\r\n",
        "\r\n",
        "# AI 학습용\r\n",
        "import numpy as np\r\n",
        "import pandas as pd\r\n",
        "import matplotlib.pyplot as plt\r\n",
        "from keras.layers.core import Dense, Activation, Dropout\r\n",
        "from keras.layers.recurrent import LSTM\r\n",
        "from keras.models import Sequential\r\n",
        "\r\n",
        "# 기타\r\n",
        "import lstm, time"
      ],
      "execution_count": null,
      "outputs": []
    },
    {
      "cell_type": "markdown",
      "metadata": {
        "id": "nBLTuKOg_K6C"
      },
      "source": [
        "# Funtion"
      ]
    },
    {
      "cell_type": "code",
      "metadata": {
        "id": "x7La5kPR_LD3"
      },
      "source": [
        "def Denomalization(dataset) :\r\n",
        "    Denormalized_data = []\r\n",
        "    for data in dataset :\r\n",
        "        Denormalized_window = [float(window[0]) * (float(p) + 1) for p in data]\r\n",
        "        Denormalized_data.append(Denormalized_window)\r\n",
        "\r\n",
        "    result = np.array(Denormalized_data)\r\n",
        "    return result"
      ],
      "execution_count": null,
      "outputs": []
    },
    {
      "cell_type": "markdown",
      "metadata": {
        "id": "nnp2aJ1V6Htb"
      },
      "source": [
        "# Load Dataset"
      ]
    },
    {
      "cell_type": "code",
      "metadata": {
        "id": "jzA0a_Cg5vMW"
      },
      "source": [
        "\"\"\"\r\n",
        "10년치 삼성전자 데이터 가져오기\r\n",
        "\r\n",
        "filename = '10y_dataset_005930.csv'\r\n",
        "data = pd.read_csv(filename)\r\n",
        "\"\"\"\r\n",
        "\r\n",
        "# s%p 500 지수 데이터 불러오기, 국제 신용평가기관(미국의 스탠다드 푸어스)가 작성한 주가 지수 = 500개 대형기업(미국)의 주식을 포함한 지수\r\n",
        "X_train, y_train, X_test, y_test = lstm.load_data('sp500.csv', 50, True)"
      ],
      "execution_count": null,
      "outputs": []
    },
    {
      "cell_type": "markdown",
      "metadata": {
        "id": "kPiRecxoM3Yv"
      },
      "source": [
        "# Normalize(lstm 모듈에서 load_data할 때 정규화 적용됌)"
      ]
    },
    {
      "cell_type": "code",
      "metadata": {
        "id": "mvS1wD8aM3gs"
      },
      "source": [
        "\"\"\"\r\n",
        "# 정규화를 안 하면 모델에 fit(학습)시에 loss율이 심해진다.\r\n",
        "Normalized_data = []\r\n",
        "for window in result :\r\n",
        "    Normalized_window = [(float(p) / float(window[0]) - 1) for p in window]\r\n",
        "    Normalized_data.append(Normalized_window)\r\n",
        "\r\n",
        "result = np.array(Normalized_data)\r\n",
        "\r\n",
        "# 테스트셋 / 훈련셋 분류\r\n",
        "row = int(round(result.shape[0] * 0.9))\r\n",
        "# 훈련셋 분류 및 랜덤 셔플\r\n",
        "train = result[:row, :]\r\n",
        "np.random.shuffle(train)\r\n",
        "\r\n",
        "x_train = train[:, :-1] # 총 51개의 윈도우 중 50개\r\n",
        "x_train = np.reshape(x_train, (x_train.shape[0], x_train.shape[1], 1))\r\n",
        "y_train = train[:, -1] # 총 51개의 윈도우 중 1개\r\n",
        "\r\n",
        "x_test = result[row:, :-1] # 총 51개의 윈도우 중 50개\r\n",
        "x_test = np.reshape(x_test, (x_test.shape[0], x_test.shape[1], 1))\r\n",
        "y_test = result[row:, -1] # 총 51개의 윈도우 중 1개\r\n",
        "\"\"\""
      ],
      "execution_count": null,
      "outputs": []
    },
    {
      "cell_type": "markdown",
      "metadata": {
        "id": "o1mnVPs2OsDc"
      },
      "source": [
        "# Model"
      ]
    },
    {
      "cell_type": "code",
      "metadata": {
        "id": "p6SFuCkGOsJW"
      },
      "source": [
        "\"\"\"\r\n",
        "셀 스테이트(cell state) = 내부에 있는 게이트(gate)들을 통해 LSTM에서 어떤 정보를 기억하고 어떤 정보를 버릴지에 대해 추가적인 학습을 가능하게 한다. \r\n",
        "이를 통해 RNN이 가진, 기울기 소실 문제(Vanishing Gradient Problem, 역전파를 통해 학습할 때 학습 기울기가 너무 작아져 학습이 잘 안 되는 문제)를 해결할 수 있다.\r\n",
        "\"\"\"\r\n",
        "# keras.models 중 모델을 순차적으로 정의하는 클래스\r\n",
        "model = Sequential()\r\n",
        "\r\n",
        "model.add(LSTM(\r\n",
        "    input_dim=1, # input_dim == 입력 데이터의 차원\r\n",
        "    output_dim=50, # output_dim == 결과 데이터의 차원\r\n",
        "    return_sequences=True)) # return_sequences == 각 시퀀스를 출력할지\r\n",
        "model.add(Dropout(0.2)) # 과적합 방지용 Dropout 20%(==0.2)\r\n",
        "\r\n",
        "model.add(LSTM(\r\n",
        "    100, # 노드 100개\r\n",
        "    return_sequences=False))\r\n",
        "model.add(Dropout(0.2))\r\n",
        "\r\n",
        "model.add(Dense(output_dim=1))\r\n",
        "model.add(Activation(\"linear\")) # 활성화(Activation)함수 = linear\r\n",
        "\r\n",
        "model.summary()"
      ],
      "execution_count": null,
      "outputs": []
    },
    {
      "cell_type": "markdown",
      "metadata": {
        "id": "jg6kQh9kQOk5"
      },
      "source": [
        "# Training"
      ]
    },
    {
      "cell_type": "code",
      "metadata": {
        "id": "8feg5c_KQOud"
      },
      "source": [
        "# trainSet이나 testSet에 null값 섞여있으면 loss(손실률)이 nan으로 나오니 주의\r\n",
        "model.fit(X_train, y_train, # 훈련셋\r\n",
        "          batch_size=512, # 한 번에 몇 개씩 묶어서 학습시킬지, batch_size\r\n",
        "          epochs=1, # N번 동안 반복해라, epochs\r\n",
        "          validation_split=0.05) # 주어진 훈련셋에서 몇 퍼 만큼 평가셋으로 쓸지에 대한 비율"
      ],
      "execution_count": null,
      "outputs": []
    },
    {
      "cell_type": "markdown",
      "metadata": {
        "id": "fswl36LIRXI0"
      },
      "source": [
        "# Prediction"
      ]
    },
    {
      "cell_type": "code",
      "metadata": {
        "id": "4ZcbXT5lRXUs"
      },
      "source": [
        "# 모델 예측\r\n",
        "pred = lstm.predict_sequences_multiple(model, X_test, 50, 50)\r\n",
        "lstm.plot_results_multiple(pred, y_test, 50)"
      ],
      "execution_count": null,
      "outputs": []
    },
    {
      "cell_type": "markdown",
      "metadata": {
        "id": "Rmg5-kQOTCHN"
      },
      "source": [
        "# CopyRight"
      ]
    },
    {
      "cell_type": "code",
      "metadata": {
        "id": "keqi6ydaTCOw"
      },
      "source": [
        "# 참조 사이트: https://github.com/llSourcell/How-to-Predict-Stock-Prices-Easily-Demo"
      ],
      "execution_count": null,
      "outputs": []
    }
  ]
}