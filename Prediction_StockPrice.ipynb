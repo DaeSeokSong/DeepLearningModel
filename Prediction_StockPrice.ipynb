{
  "nbformat": 4,
  "nbformat_minor": 0,
  "metadata": {
    "colab": {
      "name": "Prediction_StockPrice.ipynb",
      "private_outputs": true,
      "provenance": [],
      "collapsed_sections": [],
      "toc_visible": true,
      "authorship_tag": "ABX9TyN+9gW3jaR99dyCv973KoQ5",
      "include_colab_link": true
    },
    "kernelspec": {
      "name": "python3",
      "display_name": "Python 3"
    },
    "accelerator": "GPU"
  },
  "cells": [
    {
      "cell_type": "markdown",
      "metadata": {
        "id": "view-in-github",
        "colab_type": "text"
      },
      "source": [
        "<a href=\"https://colab.research.google.com/github/DaeSeokSong/MachineLearningModels/blob/main/Prediction_StockPrice.ipynb\" target=\"_parent\"><img src=\"https://colab.research.google.com/assets/colab-badge.svg\" alt=\"Open In Colab\"/></a>"
      ]
    },
    {
      "cell_type": "markdown",
      "metadata": {
        "id": "ILK-46MXD19a"
      },
      "source": [
        "# Google Drive Mount"
      ]
    },
    {
      "cell_type": "code",
      "metadata": {
        "id": "08vimB7eEeTQ"
      },
      "source": [
        "from google.colab import drive\n",
        "drive.mount('/content/drive')"
      ],
      "execution_count": null,
      "outputs": []
    },
    {
      "cell_type": "markdown",
      "metadata": {
        "id": "kzCcsgFl5wC-"
      },
      "source": [
        "#Import Pakage"
      ]
    },
    {
      "cell_type": "code",
      "metadata": {
        "id": "-IxNOCwJztCo"
      },
      "source": [
        "%cd drive/My Drive/DeepLearning/BlackUp/\n",
        "\n",
        "# AI 학습용\n",
        "import numpy as np\n",
        "import pandas as pd\n",
        "import matplotlib.pyplot as plt\n",
        "from keras.layers.core import Dense, Activation, Dropout\n",
        "from keras.layers.recurrent import LSTM\n",
        "from keras.models import Sequential\n",
        "\n",
        "# 기타\n",
        "import lstm, time"
      ],
      "execution_count": null,
      "outputs": []
    },
    {
      "cell_type": "markdown",
      "metadata": {
        "id": "nBLTuKOg_K6C"
      },
      "source": [
        "# Funtion"
      ]
    },
    {
      "cell_type": "code",
      "metadata": {
        "id": "x7La5kPR_LD3"
      },
      "source": [
        "def Denomalization(dataset) :\n",
        "    Denormalized_data = []\n",
        "    for data in dataset :\n",
        "        Denormalized_window = [float(window[0]) * (float(p) + 1) for p in data]\n",
        "        Denormalized_data.append(Denormalized_window)\n",
        "\n",
        "    result = np.array(Denormalized_data)\n",
        "    return result"
      ],
      "execution_count": null,
      "outputs": []
    },
    {
      "cell_type": "markdown",
      "metadata": {
        "id": "nnp2aJ1V6Htb"
      },
      "source": [
        "# Load Dataset"
      ]
    },
    {
      "cell_type": "code",
      "metadata": {
        "id": "jzA0a_Cg5vMW"
      },
      "source": [
        "\"\"\" 예측용 데이터 불러오기 \"\"\"\n",
        "# 10년치 삼성전자 데이터 가져오기\n",
        "filename = '10y_dataset_005930.csv'\n",
        "data = pd.read_csv(filename)\n",
        "data.head()\n",
        "\n",
        "# 평균값 계산\n",
        "High_prices = data['High'].values\n",
        "Low_prices = data[\"Low\"].values\n",
        "Avg_prices = (High_prices + Low_prices) / 2\n",
        "\n",
        "# Window size\n",
        "seq_len = 49\n",
        "total_seq_len = seq_len + 1 # 예측 기반 데이터 (seq_len)개 + 예측할 데이터 1개\n",
        "\n",
        "result = []\n",
        "for idx in range(len(Avg_prices) - total_seq_len) :\n",
        "    result.append(Avg_prices[idx: idx + total_seq_len])\n",
        "\n",
        "\"\"\" 학습용 데이터 불러오기 \"\"\"\n",
        "# s%p 500 지수 데이터 불러오기, 국제 신용평가기관(미국의 스탠다드 푸어스)가 작성한 주가 지수 = 500개 대형기업(미국)의 주식을 포함한 지수\n",
        "X_train, y_train, X_test, y_test = lstm.load_data('sp500.csv', 50, True) # lstm 모듈에서 load_data할 때 정규화(Normalize) 적용"
      ],
      "execution_count": null,
      "outputs": []
    },
    {
      "cell_type": "markdown",
      "metadata": {
        "id": "kPiRecxoM3Yv"
      },
      "source": [
        "# Normalize"
      ]
    },
    {
      "cell_type": "code",
      "metadata": {
        "id": "mvS1wD8aM3gs"
      },
      "source": [
        "\"\"\"\n",
        "ormalized_data = []\n",
        "for window in result :\n",
        "    Normalized_window = [(float(p) / float(window[0]) - 1) for p in window]\n",
        "    Normalized_data.append(Normalized_window)\n",
        "\n",
        "result = np.array(ormalized_data)\n",
        "\"\"\"\n",
        "\n",
        "result = np.array(result)\n",
        "\n",
        "# 정규화를 안 하면 모델에 fit(학습)시에 loss율이 심해진다.\n",
        "# 테스트셋 / 훈련셋 분류\n",
        "row = int(round(result.shape[0] * 0.9))\n",
        "# 훈련셋 분류 및 랜덤 셔플\n",
        "train = result[:row, :]\n",
        "np.random.shuffle(train)\n",
        "\n",
        "\"\"\"\n",
        "x_train = train[:, :-1] # 총 51개의 윈도우 중 50개\n",
        "x_train = np.reshape(x_train, (x_train.shape[0], x_train.shape[1], 1))\n",
        "y_train = train[:, -1] # 총 51개의 윈도우 중 1개\n",
        "\"\"\"\n",
        "\n",
        "real_x_test = result[row:, :-1] # 총 50개의 윈도우 중 49개\n",
        "real_x_test = np.reshape(real_x_test, (real_x_test.shape[0], real_x_test.shape[1], 1))\n",
        "real_y_test = result[row:, -1] # 총 50개의 윈도우 중 1개"
      ],
      "execution_count": null,
      "outputs": []
    },
    {
      "cell_type": "markdown",
      "metadata": {
        "id": "o1mnVPs2OsDc"
      },
      "source": [
        "# Model(Supervised, 지도학습)"
      ]
    },
    {
      "cell_type": "code",
      "metadata": {
        "id": "p6SFuCkGOsJW"
      },
      "source": [
        "\"\"\"\n",
        "셀 스테이트(cell state) = 내부에 있는 게이트(gate)들을 통해 LSTM에서 어떤 정보를 기억하고 어떤 정보를 버릴지에 대해 추가적인 학습을 가능하게 한다. \n",
        "이를 통해 RNN이 가진, 기울기 소실 문제(Vanishing Gradient Problem, 역전파를 통해 학습할 때 학습 기울기가 너무 작아져 학습이 잘 안 되는 문제)를 해결할 수 있다.\n",
        "\"\"\"\n",
        "\n",
        "\"\"\"\n",
        "# keras.models 중 모델을 순차적으로 정의하는 클래스\n",
        "model = Sequential()\n",
        "\n",
        "# LSTM 모듈 사용, 유닛 50개, 1층\n",
        "model.add(LSTM(50, return_sequences=True, input_shape=(50,1)))\n",
        "# LSTM 모듈 사용, 유닛 64개, 2층\n",
        "model.add(LSTM(64, return_sequences=False))\n",
        "# Output, 결과 산출\n",
        "model.add(Dense(1, activation='linear'))\n",
        "# 손실함수 = mse, Mean Squared Error / Optimizer = rmsprop\n",
        "model.compile(loss='mse', optimizer='rmsprop')\n",
        "# 개요 출력\n",
        "model.summary()\n",
        "\"\"\"\n",
        "# keras.models 중 모델을 순차적으로 정의하는 클래스\n",
        "model = Sequential()\n",
        "\n",
        "model.add(LSTM(\n",
        "    1, # 해당 층의 노드 개수\n",
        "    input_shape=(50,1), # input_shape=?\n",
        "    return_sequences=True)) # return_sequences == 각 시퀀스를 출력할지\n",
        "model.add(Dropout(0.2)) # 과적합 방지용 Dropout 20%(==0.2)\n",
        "\n",
        "model.add(LSTM(\n",
        "    100, # 노드 100개\n",
        "    return_sequences=False))\n",
        "model.add(Dropout(0.2))\n",
        "\n",
        "model.add(Dense(1, activation='sigmoid')) # 활성화(Activation)함수 = sigmoid\n",
        "model.compile(loss='mse', optimizer='rmsprop')\n",
        "\n",
        "model.summary()"
      ],
      "execution_count": null,
      "outputs": []
    },
    {
      "cell_type": "markdown",
      "metadata": {
        "id": "jg6kQh9kQOk5"
      },
      "source": [
        "# Training"
      ]
    },
    {
      "cell_type": "code",
      "metadata": {
        "id": "8feg5c_KQOud"
      },
      "source": [
        "\"\"\"\n",
        "model.fit(x_train, y_train, # 훈련셋\n",
        "          validation_data=(x_test, y_test), # 테스트셋, validation_data\n",
        "          batch_size=10, # 한 번에 몇 개씩 묶어서 학습시킬지, batch_size\n",
        "          epochs=20) # N번 동안 반복해라, epochs\n",
        "\"\"\"\n",
        "\n",
        "# trainSet이나 testSet에 null값 섞여있으면 loss(손실률)이 nan으로 나오니 주의\n",
        "model.fit(X_train, y_train, # 훈련셋\n",
        "          validation_data=(X_test, y_test), # 테스트셋\n",
        "          batch_size=64, # 한 번에 몇 개씩 묶어서 학습시킬지, batch_size\n",
        "          epochs=8) # N번 동안 반복해라, epochs "
      ],
      "execution_count": null,
      "outputs": []
    },
    {
      "cell_type": "markdown",
      "metadata": {
        "id": "fswl36LIRXI0"
      },
      "source": [
        "# Prediction"
      ]
    },
    {
      "cell_type": "code",
      "metadata": {
        "id": "4ZcbXT5lRXUs"
      },
      "source": [
        "# 모델 예측\n",
        "pred = lstm.predict_sequences_multiple(model, real_x_test, 50, len(real_x_test.reshape(-1))) # result의 차원이 파라미터에 넣어야할 차원 보다 높아서 에러 나는 중\n",
        "lstm.plot_results_multiple(pred, real_y_test, 50)"
      ],
      "execution_count": null,
      "outputs": []
    },
    {
      "cell_type": "markdown",
      "metadata": {
        "id": "Rmg5-kQOTCHN"
      },
      "source": [
        "# CopyRight"
      ]
    },
    {
      "cell_type": "code",
      "metadata": {
        "id": "keqi6ydaTCOw"
      },
      "source": [
        "# 참조 사이트: https://github.com/llSourcell/How-to-Predict-Stock-Prices-Easily-Demo"
      ],
      "execution_count": null,
      "outputs": []
    }
  ]
}